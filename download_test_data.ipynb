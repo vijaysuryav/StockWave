{
 "cells": [
  {
   "cell_type": "code",
   "execution_count": 1,
   "id": "11bba3da",
   "metadata": {},
   "outputs": [],
   "source": [
    "#code to download all the data related to stockmarket\n",
    "tickers = ['GPS', 'CHD', 'CVX', 'DUK', 'DVA', 'EQR', 'ESS', 'HAL', 'FOX', 'GILD']"
   ]
  },
  {
   "cell_type": "code",
   "execution_count": 2,
   "id": "fa0ae456",
   "metadata": {},
   "outputs": [
    {
     "name": "stdout",
     "output_type": "stream",
     "text": [
      "Downloaded data for GPS\n",
      "Downloaded data for CHD\n",
      "Downloaded data for CVX\n",
      "Downloaded data for DUK\n",
      "Downloaded data for DVA\n",
      "Downloaded data for EQR\n",
      "Downloaded data for ESS\n",
      "Downloaded data for HAL\n",
      "Downloaded data for FOX\n",
      "Downloaded data for GILD\n"
     ]
    }
   ],
   "source": [
    "import time\n",
    "import datetime\n",
    "import pandas as pd\n",
    "import os\n",
    "\n",
    "# Function to download data for a single ticker\n",
    "def download_data(ticker, start_date, end_date, interval='1d'):\n",
    "    period1 = int(time.mktime(start_date.timetuple()))\n",
    "    period2 = int(time.mktime(end_date.timetuple()))\n",
    "\n",
    "    query_string = f'https://query1.finance.yahoo.com/v7/finance/download/{ticker}?period1={period1}&period2={period2}&interval={interval}&events=history&includeAdjustedClose=true'\n",
    "    \n",
    "    df = pd.read_csv(query_string)\n",
    "    \n",
    "    #column names to lowercase\n",
    "    df.columns = df.columns.str.lower()\n",
    "    \n",
    "    # add 'Name' column with ticker symbol\n",
    "    df['Name'] = ticker\n",
    "    \n",
    "    df.drop(columns=['adj close'], inplace=True)\n",
    "    \n",
    "    # Save data to CSV file\n",
    "    filename = f'data_test_torun/{ticker}_data.csv'\n",
    "    df.to_csv(filename, index=False)  # Don't include index in CSV\n",
    "\n",
    "\n",
    "# Main function to download data for all tickers\n",
    "def download_data_for_all_tickers():\n",
    "    start_date = datetime.datetime(2020, 2, 5)\n",
    "    end_date = datetime.datetime(2023, 12, 31)\n",
    "    \n",
    "    #Create directory if it doesn't exist\n",
    "    if not os.path.exists('data_test_torun'):\n",
    "        os.makedirs('data_test_torun')\n",
    "    \n",
    "    # Download data for each ticker\n",
    "    for ticker in tickers:\n",
    "        try:\n",
    "            download_data(ticker, start_date, end_date)\n",
    "            print(f'Downloaded data for {ticker}')\n",
    "        except Exception as e:\n",
    "            print(f\"Error downloading data for {ticker}: {e}\")\n",
    "            continue\n",
    "\n",
    "# Call the main function to download data for all tickers\n",
    "download_data_for_all_tickers()\n"
   ]
  },
  {
   "cell_type": "code",
   "execution_count": null,
   "id": "a56a125c-e83e-4ab8-8999-e9aea1bd52d6",
   "metadata": {},
   "outputs": [],
   "source": []
  }
 ],
 "metadata": {
  "kernelspec": {
   "display_name": "Python 3 (ipykernel)",
   "language": "python",
   "name": "python3"
  },
  "language_info": {
   "codemirror_mode": {
    "name": "ipython",
    "version": 3
   },
   "file_extension": ".py",
   "mimetype": "text/x-python",
   "name": "python",
   "nbconvert_exporter": "python",
   "pygments_lexer": "ipython3",
   "version": "3.11.5"
  }
 },
 "nbformat": 4,
 "nbformat_minor": 5
}
