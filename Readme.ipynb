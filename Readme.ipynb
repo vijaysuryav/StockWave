{
 "cells": [
  {
   "cell_type": "markdown",
   "id": "0d6ceeab-b2d7-4583-8d38-12fc89b19310",
   "metadata": {},
   "source": [
    "Google drive video link -  https://drive.google.com/file/d/17pwLMLX2AJHkLGWS__1Y8t7FZJ7LO0rO/view?usp=sharing"
   ]
  },
  {
   "cell_type": "markdown",
   "id": "9fba688e-f56e-4bc3-b539-e0f34f39ade1",
   "metadata": {},
   "source": [
    "###  We have two total of three jupyter notebooks that you can run within 15 mins."
   ]
  },
  {
   "cell_type": "markdown",
   "id": "8314ad6c-68f3-423f-9f78-b41460bc1c8f",
   "metadata": {},
   "source": [
    "Upload the unzipped folder to chpc server containing spark jupyter session.\n",
    "Use the following commands to install the required libraries.\n",
    "1) !pip install tensorflow\n",
    "2) !pip instal keras\n",
    "3) !pip install matplotlib\n",
    "4) !pip install ipywidgets\n",
    "5) use pip install whenever necessary. "
   ]
  },
  {
   "cell_type": "markdown",
   "id": "13acb62a-8116-4ea0-88d4-d361ff46e77e",
   "metadata": {},
   "source": [
    "We have the following folders\n",
    "1) data - which contains all the .csv files of the stock\n",
    "2) data_torun - which contains 10 .csv files, which shall be used for running the code. As training on all stocks is taking hours of time.\n",
    "3) data_test_torun -  which gets populated when you run the download_test_data jupyter notebook.\n",
    "4) We have means_torun and stds_torun, which gsts populated with means_dict_torun.json and stds_dict_torun.json when you run Stockwave_torun jupyter file.\n",
    "5) We have a folder named modelstorun_  which has approaximately 50 stocks related LSTM models.\n",
    "6) We have models_onlinetrained, which gets populated when you click on retrain button in gui, which pops up when you run stockwave_vis_torun jupyter file."
   ]
  },
  {
   "cell_type": "markdown",
   "id": "1b8e1490-9856-48ab-b7f2-42d614cf76ea",
   "metadata": {},
   "source": [
    "### Running Stockwave_torun jupyter file"
   ]
  },
  {
   "cell_type": "markdown",
   "id": "80d1b974-24ba-4731-8d02-c0303c2866fc",
   "metadata": {},
   "source": [
    "1) Before you run you make sure you have all the above folders, and data_torun folder has 10 stock csv files.\n",
    "2) Also make sure we have means_torun and stds_torun folder, modelstorun_ folders here we save the ten models trained by running stockwave_torun.\n",
    "3) Run the entire code, it will take approximately 10 mins to train.\n",
    "4) Once the training is done, check the means_torun/means_dict_torun.json to check the measn are populated for 10 stocks that are present in data_torun folder. Same for stds_torun/stds_dict_torun.json.\n"
   ]
  },
  {
   "cell_type": "markdown",
   "id": "74eb11ee-402d-481e-b7ab-a35d2576ccb1",
   "metadata": {},
   "source": [
    "### Running download_test_data jupyter file"
   ]
  },
  {
   "cell_type": "markdown",
   "id": "e0f07df9-e0b3-414f-819b-bb9d57898021",
   "metadata": {},
   "source": [
    "1) This is used to download latest data from yahoo finance website.\n",
    "2) before you run make sure you have the folder data_test_torun, where all the stock csv files get stored.These are the stocks that are in the list of tickers in the first cell."
   ]
  },
  {
   "cell_type": "markdown",
   "id": "33b21c35-c46b-4e7a-b379-3bf2433f676f",
   "metadata": {},
   "source": [
    "### Running stockwave_vis_torun jupyter file"
   ]
  },
  {
   "cell_type": "markdown",
   "id": "61efd6a8-578d-4089-9db1-8589bf834117",
   "metadata": {},
   "source": [
    "Here we do some visualisation and testing of data.\n",
    "1) Before running make sure you have all the folders mentioned above. Make sure the means_dict_torun.json and stds_dict_torun.json are available. Make sure data_torun folder has all the 10 csv files. Also you have modelstorun_ folder with all the 10 {stock_name}_model.keras.\n",
    "2) Next run all the cells untill you reach the markdown with GUI, run the next cell, and you see a GUI popup. Enter dates which are available in the data_test_torun. Select the stock from drop down.\n",
    "3) You have three buttons, visualize, clear graph and retrain.\n",
    "4) When you click visualise a graph should pop up showing the predicted and actual values for that particular date. When you click clear graph the graph shoudl clear but buttons remain.When you click retrain the model gets retrained on new data. But you need to click on visualize button again to plot the graph after training."
   ]
  },
  {
   "cell_type": "code",
   "execution_count": null,
   "id": "4808342f-46f7-410d-821d-2f58bf77c6b8",
   "metadata": {},
   "outputs": [],
   "source": []
  }
 ],
 "metadata": {
  "kernelspec": {
   "display_name": "Python 3 (ipykernel)",
   "language": "python",
   "name": "python3"
  },
  "language_info": {
   "codemirror_mode": {
    "name": "ipython",
    "version": 3
   },
   "file_extension": ".py",
   "mimetype": "text/x-python",
   "name": "python",
   "nbconvert_exporter": "python",
   "pygments_lexer": "ipython3",
   "version": "3.11.5"
  }
 },
 "nbformat": 4,
 "nbformat_minor": 5
}
